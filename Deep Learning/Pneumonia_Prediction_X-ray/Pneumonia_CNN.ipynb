{
 "cells": [
  {
   "cell_type": "code",
   "execution_count": 1,
   "metadata": {},
   "outputs": [],
   "source": [
    "import pandas as pd\n",
    "import numpy as np\n",
    "import tensorflow as tf\n",
    "from tensorflow import keras\n",
    "\n",
    "import matplotlib.pyplot as plt\n",
    "%matplotlib inline"
   ]
  },
  {
   "cell_type": "code",
   "execution_count": 9,
   "metadata": {},
   "outputs": [],
   "source": [
    "import os\n",
    "from fastcore.all import *\n",
    "from fastdownload import download_url\n",
    "from fastai.vision.all import *\n",
    "from PIL import ImageFile,Imagex\n",
    "ImageFile.LOAD_TRUNCATED_IMAGES = True"
   ]
  },
  {
   "cell_type": "code",
   "execution_count": 12,
   "metadata": {},
   "outputs": [
    {
     "data": {
      "text/plain": [
       "Path('C:/Users/gteja/Downloads/chest_imgs/chest_xray')"
      ]
     },
     "execution_count": 12,
     "metadata": {},
     "output_type": "execute_result"
    }
   ],
   "source": [
    "path = Path(\"C:/Users/gteja/Downloads/chest_imgs/chest_xray\")\n",
    "path"
   ]
  },
  {
   "cell_type": "code",
   "execution_count": 37,
   "metadata": {},
   "outputs": [],
   "source": [
    "def CreateData(dataframe, folder, label, fp):\n",
    "    for i,img in enumerate(folder):\n",
    "        fname = os.path.basename(img)\n",
    "        imgpath = fp + fname\n",
    "        vals = {'imagePath': imgpath, 'label': label}\n",
    "        tempdf = pd.DataFrame(data = vals,index=[i])\n",
    "        dataframe = pd.concat([dataframe,tempdf])\n",
    "    return dataframe"
   ]
  },
  {
   "cell_type": "code",
   "execution_count": 33,
   "metadata": {},
   "outputs": [
    {
     "data": {
      "text/plain": [
       "(#8) [Path('C:/Users/gteja/Downloads/chest_imgs/chest_xray/val/NORMAL/NORMAL2-IM-1427-0001.jpeg'),Path('C:/Users/gteja/Downloads/chest_imgs/chest_xray/val/NORMAL/NORMAL2-IM-1430-0001.jpeg'),Path('C:/Users/gteja/Downloads/chest_imgs/chest_xray/val/NORMAL/NORMAL2-IM-1431-0001.jpeg'),Path('C:/Users/gteja/Downloads/chest_imgs/chest_xray/val/NORMAL/NORMAL2-IM-1436-0001.jpeg'),Path('C:/Users/gteja/Downloads/chest_imgs/chest_xray/val/NORMAL/NORMAL2-IM-1437-0001.jpeg'),Path('C:/Users/gteja/Downloads/chest_imgs/chest_xray/val/NORMAL/NORMAL2-IM-1438-0001.jpeg'),Path('C:/Users/gteja/Downloads/chest_imgs/chest_xray/val/NORMAL/NORMAL2-IM-1440-0001.jpeg'),Path('C:/Users/gteja/Downloads/chest_imgs/chest_xray/val/NORMAL/NORMAL2-IM-1442-0001.jpeg')]"
      ]
     },
     "execution_count": 33,
     "metadata": {},
     "output_type": "execute_result"
    }
   ],
   "source": [
    "val_pneumonia = (path/\"val/PNEUMONIA\").ls()\n",
    "val_normal = (path/\"val/NORMAL\").ls()\n",
    "val_normal"
   ]
  },
  {
   "cell_type": "code",
   "execution_count": 40,
   "metadata": {},
   "outputs": [],
   "source": [
    "cols = ['imagePath','label']\n",
    "vals = pd.DataFrame(columns=cols)\n",
    "vals = CreateData(vals,val_pneumonia,1,\"val/\")\n",
    "vals = CreateData(vals,val_normal,0,\"val/\")"
   ]
  },
  {
   "cell_type": "code",
   "execution_count": 43,
   "metadata": {},
   "outputs": [
    {
     "data": {
      "text/html": [
       "<div>\n",
       "<style scoped>\n",
       "    .dataframe tbody tr th:only-of-type {\n",
       "        vertical-align: middle;\n",
       "    }\n",
       "\n",
       "    .dataframe tbody tr th {\n",
       "        vertical-align: top;\n",
       "    }\n",
       "\n",
       "    .dataframe thead th {\n",
       "        text-align: right;\n",
       "    }\n",
       "</style>\n",
       "<table border=\"1\" class=\"dataframe\">\n",
       "  <thead>\n",
       "    <tr style=\"text-align: right;\">\n",
       "      <th></th>\n",
       "      <th>imagePath</th>\n",
       "      <th>label</th>\n",
       "    </tr>\n",
       "  </thead>\n",
       "  <tbody>\n",
       "    <tr>\n",
       "      <th>0</th>\n",
       "      <td>val/person1946_bacteria_4874.jpeg</td>\n",
       "      <td>1</td>\n",
       "    </tr>\n",
       "    <tr>\n",
       "      <th>1</th>\n",
       "      <td>val/person1946_bacteria_4875.jpeg</td>\n",
       "      <td>1</td>\n",
       "    </tr>\n",
       "    <tr>\n",
       "      <th>2</th>\n",
       "      <td>val/person1947_bacteria_4876.jpeg</td>\n",
       "      <td>1</td>\n",
       "    </tr>\n",
       "    <tr>\n",
       "      <th>3</th>\n",
       "      <td>val/person1949_bacteria_4880.jpeg</td>\n",
       "      <td>1</td>\n",
       "    </tr>\n",
       "    <tr>\n",
       "      <th>4</th>\n",
       "      <td>val/person1950_bacteria_4881.jpeg</td>\n",
       "      <td>1</td>\n",
       "    </tr>\n",
       "    <tr>\n",
       "      <th>5</th>\n",
       "      <td>val/person1951_bacteria_4882.jpeg</td>\n",
       "      <td>1</td>\n",
       "    </tr>\n",
       "    <tr>\n",
       "      <th>6</th>\n",
       "      <td>val/person1952_bacteria_4883.jpeg</td>\n",
       "      <td>1</td>\n",
       "    </tr>\n",
       "    <tr>\n",
       "      <th>7</th>\n",
       "      <td>val/person1954_bacteria_4886.jpeg</td>\n",
       "      <td>1</td>\n",
       "    </tr>\n",
       "    <tr>\n",
       "      <th>0</th>\n",
       "      <td>val/NORMAL2-IM-1427-0001.jpeg</td>\n",
       "      <td>0</td>\n",
       "    </tr>\n",
       "    <tr>\n",
       "      <th>1</th>\n",
       "      <td>val/NORMAL2-IM-1430-0001.jpeg</td>\n",
       "      <td>0</td>\n",
       "    </tr>\n",
       "    <tr>\n",
       "      <th>2</th>\n",
       "      <td>val/NORMAL2-IM-1431-0001.jpeg</td>\n",
       "      <td>0</td>\n",
       "    </tr>\n",
       "    <tr>\n",
       "      <th>3</th>\n",
       "      <td>val/NORMAL2-IM-1436-0001.jpeg</td>\n",
       "      <td>0</td>\n",
       "    </tr>\n",
       "    <tr>\n",
       "      <th>4</th>\n",
       "      <td>val/NORMAL2-IM-1437-0001.jpeg</td>\n",
       "      <td>0</td>\n",
       "    </tr>\n",
       "    <tr>\n",
       "      <th>5</th>\n",
       "      <td>val/NORMAL2-IM-1438-0001.jpeg</td>\n",
       "      <td>0</td>\n",
       "    </tr>\n",
       "    <tr>\n",
       "      <th>6</th>\n",
       "      <td>val/NORMAL2-IM-1440-0001.jpeg</td>\n",
       "      <td>0</td>\n",
       "    </tr>\n",
       "    <tr>\n",
       "      <th>7</th>\n",
       "      <td>val/NORMAL2-IM-1442-0001.jpeg</td>\n",
       "      <td>0</td>\n",
       "    </tr>\n",
       "  </tbody>\n",
       "</table>\n",
       "</div>"
      ],
      "text/plain": [
       "                           imagePath label\n",
       "0  val/person1946_bacteria_4874.jpeg     1\n",
       "1  val/person1946_bacteria_4875.jpeg     1\n",
       "2  val/person1947_bacteria_4876.jpeg     1\n",
       "3  val/person1949_bacteria_4880.jpeg     1\n",
       "4  val/person1950_bacteria_4881.jpeg     1\n",
       "5  val/person1951_bacteria_4882.jpeg     1\n",
       "6  val/person1952_bacteria_4883.jpeg     1\n",
       "7  val/person1954_bacteria_4886.jpeg     1\n",
       "0      val/NORMAL2-IM-1427-0001.jpeg     0\n",
       "1      val/NORMAL2-IM-1430-0001.jpeg     0\n",
       "2      val/NORMAL2-IM-1431-0001.jpeg     0\n",
       "3      val/NORMAL2-IM-1436-0001.jpeg     0\n",
       "4      val/NORMAL2-IM-1437-0001.jpeg     0\n",
       "5      val/NORMAL2-IM-1438-0001.jpeg     0\n",
       "6      val/NORMAL2-IM-1440-0001.jpeg     0\n",
       "7      val/NORMAL2-IM-1442-0001.jpeg     0"
      ]
     },
     "execution_count": 43,
     "metadata": {},
     "output_type": "execute_result"
    }
   ],
   "source": [
    "vals"
   ]
  },
  {
   "cell_type": "code",
   "execution_count": 44,
   "metadata": {},
   "outputs": [],
   "source": [
    "test_pneumonia = (path/\"train/PNEUMONIA\").ls()\n",
    "test_normal = (path/\"test/NORMAL\").ls()\n",
    "\n",
    "train_pneumonia = (path/\"train/PNEUMONIA\").ls()\n",
    "train_normal = (path/\"train/NORMAL\").ls()"
   ]
  },
  {
   "cell_type": "code",
   "execution_count": 45,
   "metadata": {},
   "outputs": [],
   "source": [
    "test = pd.DataFrame(columns=cols)\n",
    "train = pd.DataFrame(columns=cols)\n",
    "\n",
    "test = CreateData(CreateData(test,test_pneumonia,1,\"test/\"),test_normal,0,\"test/\")\n",
    "\n",
    "train = CreateData(CreateData(train,train_pneumonia,1,\"train/\"),train_normal,0,\"train/\")"
   ]
  },
  {
   "cell_type": "code",
   "execution_count": 48,
   "metadata": {},
   "outputs": [
    {
     "data": {
      "text/plain": [
       "label\n",
       "1    3875\n",
       "0     234\n",
       "Name: count, dtype: int64"
      ]
     },
     "execution_count": 48,
     "metadata": {},
     "output_type": "execute_result"
    }
   ],
   "source": [
    "test['label'].value_counts()"
   ]
  },
  {
   "cell_type": "code",
   "execution_count": 49,
   "metadata": {},
   "outputs": [
    {
     "data": {
      "text/plain": [
       "label\n",
       "1    3875\n",
       "0    1341\n",
       "Name: count, dtype: int64"
      ]
     },
     "execution_count": 49,
     "metadata": {},
     "output_type": "execute_result"
    }
   ],
   "source": [
    "train['label'].value_counts()"
   ]
  }
 ],
 "metadata": {
  "kernelspec": {
   "display_name": "Python 3",
   "language": "python",
   "name": "python3"
  },
  "language_info": {
   "codemirror_mode": {
    "name": "ipython",
    "version": 3
   },
   "file_extension": ".py",
   "mimetype": "text/x-python",
   "name": "python",
   "nbconvert_exporter": "python",
   "pygments_lexer": "ipython3",
   "version": "3.10.11"
  }
 },
 "nbformat": 4,
 "nbformat_minor": 2
}
